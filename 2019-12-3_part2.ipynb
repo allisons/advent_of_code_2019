{
 "cells": [
  {
   "cell_type": "code",
   "execution_count": 13,
   "metadata": {},
   "outputs": [],
   "source": [
    "import numpy as np\n",
    "import matplotlib.pyplot as plt\n",
    "import seaborn as sns\n",
    "sns.set_style('whitegrid')\n",
    "from tests import multi_param_test as tests\n",
    "\n",
    "def write_path(instructions):\n",
    "    path = [(0,0)]\n",
    "    for bit in instructions:\n",
    "        d = bit[0]\n",
    "        mag  = int(bit[1:])\n",
    "        last = path[-1]\n",
    "        if d=='R':\n",
    "            new = (last[0]+mag, last[1])\n",
    "        elif d=='L':\n",
    "            new = (last[0]-mag, last[1])\n",
    "        elif d == 'U':\n",
    "            new = (last[0], last[1]+mag)\n",
    "        elif d == 'D':\n",
    "            new = (last[0], last[1]-mag)\n",
    "        path.append(new)\n",
    "    return path\n",
    "\n",
    "\n",
    "def determine_intersection(ax,ay,bx,by,cx,cy,dx,dy):\n",
    "    if ax == bx:\n",
    "        x = ax\n",
    "        y = cy\n",
    "        xinterval = [min(cx,dx), max(cx,dx)]\n",
    "        yinterval = [min(ay,by), max(ay,by)]\n",
    "        rightx = ax >= xinterval[0] and ax <= xinterval[1]\n",
    "        righty = cy >= yinterval[0] and cy <= yinterval[1]\n",
    "        \n",
    "    else:\n",
    "        x=cx\n",
    "        y=ay\n",
    "        xinterval = [min(ax,bx), max(ax,bx)]\n",
    "        yinterval = [min(cy,dy), max(cy,dy)]\n",
    "        rightx = cx >= xinterval[0] and cx <= xinterval[1]\n",
    "        righty = ay >= yinterval[0] and ay <= yinterval[1]\n",
    "    if rightx and righty:\n",
    "        return (x,y)\n",
    "    else:\n",
    "        return None\n",
    "\n",
    "\n",
    "def list_of_intersects(first_desc,second_desc):\n",
    "    first_wire = write_path(first_desc)\n",
    "    second_wire = write_path(second_desc)\n",
    "    intersections = []\n",
    "    for i in range(len(first_wire)-1):\n",
    "        for j in range(len(second_wire)-1):\n",
    "            a = determine_intersection(first_wire[i][0], \n",
    "                                               first_wire[i][1], \n",
    "                                               first_wire[i+1][0], \n",
    "                                               first_wire[i+1][1],\n",
    "                                              second_wire[j][0],\n",
    "                                              second_wire[j][1],\n",
    "                                              second_wire[j+1][0],\n",
    "                                              second_wire[j+1][1])\n",
    "            if a:\n",
    "                intersections.append(a)\n",
    "    return intersections[1:]\n",
    "\n",
    "def point_on_line(x1,y1,x2,y2,xn,yn):\n",
    "    xinterval = [min(x1,x2), max(x1,x2)]\n",
    "    yinterval = [min(y1,y2), max(y1,y2)]\n",
    "    return xn >= xinterval[0] and xn <= xinterval[1] and yn >= yinterval[0] and yn <= yinterval[1]\n",
    "\n",
    "\n",
    "def count_steps(wire_desc,intersect_x,intersect_y):\n",
    "    wire_path = write_path(wire_desc)\n",
    "    dist = 0\n",
    "    verx_1, very_1 = wire_path[0]\n",
    "    verx_2, very_2 = wire_path[1]\n",
    "    i = 2\n",
    "    while not point_on_line(verx_1,very_1, verx_2, very_2,intersect_x,intersect_y):\n",
    "        dist += abs(verx_1-verx_2)+abs(very_1-very_2)\n",
    "        verx_1 = verx_2\n",
    "        very_1 = very_2\n",
    "        verx_2,very_2 = wire_path[i]\n",
    "        i+=1\n",
    "    dist += abs(verx_1-intersect_x)+abs(very_1-intersect_y)\n",
    "    return dist\n",
    "\n",
    "def min_intersect_dist(first_desc,second_desc):\n",
    "    intersections = list_of_intersects(first_desc,second_desc)\n",
    "    dists = []\n",
    "    for x,y in intersections:\n",
    "        dists.append(count_steps(first_desc,x,y)+count_steps(second_desc,x,y))\n",
    "    return np.min(dists)"
   ]
  },
  {
   "cell_type": "code",
   "execution_count": 15,
   "metadata": {},
   "outputs": [],
   "source": [
    "ins = [(['R8','U5','L5','D3'],['U7','R6','D4','L4']),\n",
    "      (\"R75,D30,R83,U83,L12,D49,R71,U7,L72\".split(','),'U62,R66,U55,R34,D71,R55,D58,R83'.split(\",\")),\n",
    "      (\"R98,U47,R26,D63,R33,U87,L62,D20,R33,U53,R51\".split(\",\"),\"U98,R91,D20,R16,D67,R40,U7,R15,U6,R7\".split(\",\"))]\n",
    "outs = [30,610,410]"
   ]
  },
  {
   "cell_type": "code",
   "execution_count": 16,
   "metadata": {},
   "outputs": [
    {
     "data": {
      "text/plain": [
       "True"
      ]
     },
     "execution_count": 16,
     "metadata": {},
     "output_type": "execute_result"
    }
   ],
   "source": [
    "tests(min_intersect_dist,ins,outs)"
   ]
  },
  {
   "cell_type": "code",
   "execution_count": 17,
   "metadata": {},
   "outputs": [
    {
     "data": {
      "text/plain": [
       "163676"
      ]
     },
     "execution_count": 17,
     "metadata": {},
     "output_type": "execute_result"
    }
   ],
   "source": [
    "with open(\"2019_12_3-input.txt\") as fileobj:\n",
    "    raw = fileobj.read()\n",
    "paths = raw.split(\"\\n\")\n",
    "min_intersect_dist(paths[0].split(\",\"), paths[1].split(\",\"))"
   ]
  },
  {
   "cell_type": "code",
   "execution_count": null,
   "metadata": {},
   "outputs": [],
   "source": []
  }
 ],
 "metadata": {
  "kernelspec": {
   "display_name": "Python [conda env:.conda-simpleenv]",
   "language": "python",
   "name": "conda-env-.conda-simpleenv-py"
  },
  "language_info": {
   "codemirror_mode": {
    "name": "ipython",
    "version": 3
   },
   "file_extension": ".py",
   "mimetype": "text/x-python",
   "name": "python",
   "nbconvert_exporter": "python",
   "pygments_lexer": "ipython3",
   "version": "3.7.5"
  }
 },
 "nbformat": 4,
 "nbformat_minor": 4
}
