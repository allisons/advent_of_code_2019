{
 "cells": [
  {
   "cell_type": "code",
   "execution_count": 12,
   "metadata": {},
   "outputs": [],
   "source": [
    "import numpy as np\n",
    "import pandas as pd\n",
    "import matplotlib.pyplot as plt\n",
    "%run tests.py\n",
    "\n",
    "class Orbits():\n",
    "    def __init__(self,label, mother=False):\n",
    "        self.name = label\n",
    "        self.daughters = []\n",
    "        self.mother = mother\n",
    "        if mother:\n",
    "            mother.add_daughter(self)\n",
    "    \n",
    "    def get_name(self):\n",
    "        return self.name\n",
    "    \n",
    "    def add_daughter(self,daughter):\n",
    "        self.daughters.append(daughter)\n",
    "        \n",
    "    def add_mother(self, mother):\n",
    "        self.mother=mother\n",
    "\n",
    "    def __repr__(self):\n",
    "        if not self.mother:\n",
    "            stringrep = \"*\"\n",
    "        else:\n",
    "            stringrep = \"\"\n",
    "        if len(self.daughters)==0:\n",
    "            return stringrep+\"Name = {}\".format(self.name)\n",
    "        else:\n",
    "            stringrep += \"Name = {}, daughters = [\".format(self.name)\n",
    "            for d in self.daughters:\n",
    "                stringrep += \"{},\".format(d)\n",
    "            stringrep+=(\"]\")\n",
    "            return stringrep\n",
    "    \n",
    "    \n",
    "    def get_moms_name(self):\n",
    "        if self.mother:\n",
    "            return self.mother.get_name()\n",
    "        else:\n",
    "            return \"root\"\n",
    "    \n",
    "    def get_self(self,name):\n",
    "        if name ==self.name:\n",
    "            return self\n",
    "        else:\n",
    "            return None\n",
    "        \n",
    "\n",
    "def get_height(node, height):\n",
    "    if not node.mother:\n",
    "        return height\n",
    "    else:\n",
    "        return get_height(node.mother, height+1)\n",
    "\n",
    "def get_daughter_heights(node, heightdict):\n",
    "    heightdict[node.get_name()]=get_height(node,0)\n",
    "    if len(node.daughters)>0:\n",
    "        for d in node.daughters:\n",
    "            heightdict.update(get_daughter_heights(d,heightdict))\n",
    "    return heightdict    \n",
    "\n",
    "def add_up_all_height(node):\n",
    "    if isinstance(node,list):\n",
    "        node = build_tree(node)\n",
    "    heightdict = get_daughter_heights(node, {})\n",
    "    return pd.Series(heightdict).sum()\n",
    "\n",
    "\n",
    "def labels_and_locs(node, momx,momy, myx,myy):\n",
    "    newx = myx\n",
    "    newy = myy\n",
    "    name = node.get_name()\n",
    "    row = pd.DataFrame({name:{'momx':momx,'momy':momy, 'myx':myx, 'myy':myy}}).T\n",
    "    if len(node.daughters)==0:\n",
    "        return row\n",
    "    elif len(node.daughters)==1:\n",
    "        return pd.concat([row,labels_and_locs(node.daughters[0],myx,myy,newx,newy+1)], sort=False)\n",
    "    else:\n",
    "        a = labels_and_locs(node.daughters[0],myx,myy,newx-2, newy+1)\n",
    "        b = labels_and_locs(node.daughters[1],myx,myy,newx+2,newy+1)\n",
    "        return pd.concat([row,a,b], sort=False) \n",
    "\n",
    "def draw_nodemap(root):\n",
    "    if isinstance(root,list):\n",
    "        root = build_tree(root)\n",
    "    nodedf = labels_and_locs(root,0,0,0,0)\n",
    "    minx = np.min([nodedf['momx'].min(),nodedf['myx'].min()])\n",
    "    maxx = np.max([nodedf['momx'].max(),nodedf['myx'].max()])\n",
    "    miny = np.min([nodedf['momy'].min(),nodedf['myy'].min()])\n",
    "    maxy = np.max([nodedf['momy'].max(),nodedf['myy'].max()])\n",
    "    rangex = maxx-minx\n",
    "    rangey = maxy-miny\n",
    "    wh = plt.figaspect(10*rangex/rangey)\n",
    "    fig, ax = plt.subplots()\n",
    "    for label, row in nodedf.iterrows():\n",
    "        xs = [row['momx'],row['myx']]\n",
    "        ys = [row['momy'],row['myy']]\n",
    "        ax.annotate(label,xy=(row['myx'],row['myy']))\n",
    "        ax.plot(xs,ys, linestyle=\":\", color='black')\n",
    "    return nodedf\n",
    "    ax.set_xlim(minx-1,maxx+1)\n",
    "    ax.set_ylim(miny-1,maxy+1)\n",
    "\n",
    "def build_tree(edges):\n",
    "    roots = set()\n",
    "    nodenames = list()\n",
    "    for edge in edges:\n",
    "        mother, child = edge.split(\")\")\n",
    "        if not mother in nodenames:\n",
    "            newroot = (Orbits(mother))\n",
    "            roots.add(newroot)\n",
    "            nodenames.append(mother)\n",
    "        for root in roots:\n",
    "            existingmom = find_node(root,mother)\n",
    "            if existingmom:\n",
    "                break \n",
    "        if not child in nodenames:\n",
    "            newkid = Orbits(child,mother=existingmom)\n",
    "            nodenames.append(child)\n",
    "            continue\n",
    "        else:\n",
    "            for root in roots:\n",
    "                existingkid = find_node(root,child)\n",
    "                if existingkid:\n",
    "                    break\n",
    "            existingmom.add_daughter(existingkid)\n",
    "            existingkid.add_mother(existingmom)\n",
    "            if existingkid in roots:\n",
    "                roots.remove(existingkid)\n",
    "    if len(roots) > 1:\n",
    "        return \"Not valid description\"\n",
    "    else:\n",
    "        return list(roots)[0]\n"
   ]
  },
  {
   "cell_type": "code",
   "execution_count": 10,
   "metadata": {},
   "outputs": [
    {
     "data": {
      "text/plain": [
       "True"
      ]
     },
     "execution_count": 10,
     "metadata": {},
     "output_type": "execute_result"
    }
   ],
   "source": [
    "ins = [\"\"\"COM)B\n",
    "B)C\n",
    "C)D\n",
    "D)E\n",
    "E)F\n",
    "B)G\n",
    "G)H\n",
    "D)I\n",
    "E)J\n",
    "J)K\n",
    "K)L\"\"\".split(\"\\n\"),]\n",
    "outs = [42]\n",
    "simple_test(add_up_all_height,ins,outs)\n"
   ]
  },
  {
   "cell_type": "code",
   "execution_count": 14,
   "metadata": {},
   "outputs": [
    {
     "data": {
      "text/plain": [
       "294191"
      ]
     },
     "execution_count": 14,
     "metadata": {},
     "output_type": "execute_result"
    }
   ],
   "source": [
    "#Answer\n",
    "with open(\"2019_12_6_input.txt\") as fileobj:\n",
    "    raw = fileobj.read()\n",
    "edges = raw.strip().split(\"\\n\")\n",
    "add_up_all_height(edges)"
   ]
  },
  {
   "cell_type": "code",
   "execution_count": 6,
   "metadata": {},
   "outputs": [
    {
     "data": {
      "image/png": "[encoded data removed]",
      "text/plain": [
       "<Figure size 432x288 with 1 Axes>"
      ]
     },
     "metadata": {
      "needs_background": "light"
     },
     "output_type": "display_data"
    }
   ],
   "source": [
    "df = draw_nodemap(ins[0])"
   ]
  },
  {
   "cell_type": "code",
   "execution_count": 7,
   "metadata": {},
   "outputs": [
    {
     "data": {
      "image/png": "[encoded data removed]",
      "text/plain": [
       "<Figure size 432x288 with 1 Axes>"
      ]
     },
     "metadata": {
      "needs_background": "light"
     },
     "output_type": "display_data"
    }
   ],
   "source": [
    "df = draw_nodemap(ins[1])"
   ]
  },
  {
   "cell_type": "code",
   "execution_count": null,
   "metadata": {},
   "outputs": [],
   "source": []
  }
 ],
 "metadata": {
  "kernelspec": {
   "display_name": "Python [conda env:.conda-simpleenv]",
   "language": "python",
   "name": "conda-env-.conda-simpleenv-py"
  },
  "language_info": {
   "codemirror_mode": {
    "name": "ipython",
    "version": 3
   },
   "file_extension": ".py",
   "mimetype": "text/x-python",
   "name": "python",
   "nbconvert_exporter": "python",
   "pygments_lexer": "ipython3",
   "version": "3.7.5"
  }
 },
 "nbformat": 4,
 "nbformat_minor": 4
}
