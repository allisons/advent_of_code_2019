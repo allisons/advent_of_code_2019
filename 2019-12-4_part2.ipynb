{
 "cells": [
  {
   "cell_type": "code",
   "execution_count": 1,
   "metadata": {},
   "outputs": [],
   "source": [
    "import numpy as np\n",
    "from tests import simple_test as tests\n",
    "\n",
    "def double_not_triple(string):\n",
    "    i=0\n",
    "    while (i<len(string)-1):\n",
    "        if string[i]==string[i+1]:\n",
    "            if len(string)==i+2:\n",
    "                return True\n",
    "\n",
    "            elif string[i]==string[i+2]:\n",
    "                while string[i]==string[i+1]:\n",
    "                        if i+2>=len(string):\n",
    "                            return False\n",
    "                        i+=1\n",
    "            else:\n",
    "                return True\n",
    "        i+=1\n",
    "    return False\n",
    "\n",
    "def double_not_triple_debug(string):\n",
    "    i=0\n",
    "    while (i<len(string)-1):\n",
    "        print (\"Looking at pointer {}, {}*{}*{}\".format(i, string[:i], string[i:i+2], string[i+2:]))\n",
    "        if string[i]==string[i+1]:\n",
    "            print (\"Found a double, let's see if it's a triple\")\n",
    "            if len(string)==i+2:\n",
    "                print (\"This double shows up at the end of the string, so it counts\")\n",
    "                return True\n",
    "            elif string[i]==string[i+2]:\n",
    "                print (\"this is a double and not a triple, so it doesn't count, skipping to next different value\")\n",
    "                while string[i]==string[i+1]:\n",
    "                        if i+2>=len(string):\n",
    "                            return False\n",
    "                        i+=1\n",
    "            elif string[i] != string[i+2]:\n",
    "                return True\n",
    "        i+=1\n",
    "    return False\n",
    "\n",
    "\n",
    "\n",
    "def monotonic(string):\n",
    "    i = 1\n",
    "    lastv = int(string[0])\n",
    "    while i <len(string):\n",
    "        nextv = int(string[i])\n",
    "        if nextv < lastv:\n",
    "            return False\n",
    "        lastv = nextv\n",
    "        i +=1\n",
    "    return True\n",
    "def qualifies(string):\n",
    "    return len(string) == 6 and monotonic(string) and double_not_triple(string)"
   ]
  },
  {
   "cell_type": "code",
   "execution_count": 2,
   "metadata": {},
   "outputs": [
    {
     "data": {
      "text/plain": [
       "True"
      ]
     },
     "execution_count": 2,
     "metadata": {},
     "output_type": "execute_result"
    }
   ],
   "source": [
    "ins = ['112233','123444','111122']\n",
    "outs = [True,False,True]\n",
    "tests(qualifies,ins,outs)"
   ]
  },
  {
   "cell_type": "code",
   "execution_count": 3,
   "metadata": {},
   "outputs": [
    {
     "data": {
      "text/plain": [
       "1135"
      ]
     },
     "execution_count": 3,
     "metadata": {},
     "output_type": "execute_result"
    }
   ],
   "source": [
    "a = np.arange(172851,675869)\n",
    "nqualifies = 0\n",
    "for pw in a:\n",
    "    if qualifies(str(pw)):\n",
    "        nqualifies +=1\n",
    "nqualifies"
   ]
  },
  {
   "cell_type": "code",
   "execution_count": null,
   "metadata": {},
   "outputs": [],
   "source": []
  }
 ],
 "metadata": {
  "kernelspec": {
   "display_name": "Python [conda env:.conda-simpleenv]",
   "language": "python",
   "name": "conda-env-.conda-simpleenv-py"
  },
  "language_info": {
   "codemirror_mode": {
    "name": "ipython",
    "version": 3
   },
   "file_extension": ".py",
   "mimetype": "text/x-python",
   "name": "python",
   "nbconvert_exporter": "python",
   "pygments_lexer": "ipython3",
   "version": "3.7.5"
  }
 },
 "nbformat": 4,
 "nbformat_minor": 4
}
