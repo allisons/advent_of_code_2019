{
 "cells": [
  {
   "cell_type": "code",
   "execution_count": 1,
   "metadata": {},
   "outputs": [],
   "source": [
    "from tests import simple_test as tests\n",
    "def go_nogo(mass):\n",
    "    fuel = mass // 3 - 2\n",
    "    if fuel // 3 - 2 <= 0:\n",
    "        return fuel\n",
    "    return fuel + go_nogo(fuel)"
   ]
  },
  {
   "cell_type": "code",
   "execution_count": 2,
   "metadata": {},
   "outputs": [
    {
     "data": {
      "text/plain": [
       "True"
      ]
     },
     "execution_count": 2,
     "metadata": {},
     "output_type": "execute_result"
    }
   ],
   "source": [
    "\n",
    "ins = [12, 14, 1969, 100756]\n",
    "outs = [2,2,966,50346]\n",
    "tests(go_nogo,ins,outs)"
   ]
  },
  {
   "cell_type": "code",
   "execution_count": 4,
   "metadata": {},
   "outputs": [
    {
     "data": {
      "text/plain": [
       "4765294"
      ]
     },
     "execution_count": 4,
     "metadata": {},
     "output_type": "execute_result"
    }
   ],
   "source": [
    "import numpy as np\n",
    "with open('2019_12_1_input.txt') as fileobj:\n",
    "    raw = fileobj.read()\n",
    "inputs = np.array([int(line.strip()) for line in raw.split()])\n",
    "outputs = np.array([go_nogo(i) for i in inputs])\n",
    "outputs.sum()"
   ]
  },
  {
   "cell_type": "code",
   "execution_count": null,
   "metadata": {},
   "outputs": [],
   "source": []
  }
 ],
 "metadata": {
  "kernelspec": {
   "display_name": "Python [conda env:.conda-simpleenv]",
   "language": "python",
   "name": "conda-env-.conda-simpleenv-py"
  },
  "language_info": {
   "codemirror_mode": {
    "name": "ipython",
    "version": 3
   },
   "file_extension": ".py",
   "mimetype": "text/x-python",
   "name": "python",
   "nbconvert_exporter": "python",
   "pygments_lexer": "ipython3",
   "version": "3.7.5"
  }
 },
 "nbformat": 4,
 "nbformat_minor": 4
}
