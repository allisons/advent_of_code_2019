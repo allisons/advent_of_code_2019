{
 "cells": [
  {
   "cell_type": "code",
   "execution_count": 1,
   "metadata": {},
   "outputs": [],
   "source": [
    "import numpy as np\n",
    "from tests import tests\n",
    "def go_nogo(i):\n",
    "    return i//3 -2"
   ]
  },
  {
   "cell_type": "code",
   "execution_count": 2,
   "metadata": {},
   "outputs": [
    {
     "name": "stdout",
     "output_type": "stream",
     "text": [
      "All Tests Pass\n"
     ]
    }
   ],
   "source": [
    "ins = [12, 14, 1969, 100756]\n",
    "outs = [2,2,654,33583]\n",
    "tests(go_nogo,ins,outs)"
   ]
  },
  {
   "cell_type": "code",
   "execution_count": 5,
   "metadata": {},
   "outputs": [
    {
     "data": {
      "text/plain": [
       "3178783"
      ]
     },
     "execution_count": 5,
     "metadata": {},
     "output_type": "execute_result"
    }
   ],
   "source": [
    "with open('2019_12_1_input.txt') as fileobj:\n",
    "    raw = fileobj.read()\n",
    "inputs = np.array([int(line.strip()) for line in raw.split()])\n",
    "outputs = go_nogo(inputs)\n",
    "outputs.sum()"
   ]
  },
  {
   "cell_type": "code",
   "execution_count": null,
   "metadata": {},
   "outputs": [],
   "source": []
  }
 ],
 "metadata": {
  "kernelspec": {
   "display_name": "Python [conda env:generic]",
   "language": "python",
   "name": "conda-env-generic-py"
  },
  "language_info": {
   "codemirror_mode": {
    "name": "ipython",
    "version": 3
   },
   "file_extension": ".py",
   "mimetype": "text/x-python",
   "name": "python",
   "nbconvert_exporter": "python",
   "pygments_lexer": "ipython3",
   "version": "3.7.5"
  }
 },
 "nbformat": 4,
 "nbformat_minor": 4
}
