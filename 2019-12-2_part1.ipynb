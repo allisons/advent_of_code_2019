{
 "cells": [
  {
   "cell_type": "code",
   "execution_count": 1,
   "metadata": {},
   "outputs": [],
   "source": [
    "import numpy as np\n",
    "from tests import simple_test as tests"
   ]
  },
  {
   "cell_type": "code",
   "execution_count": 2,
   "metadata": {},
   "outputs": [],
   "source": [
    "def opcode(_code):\n",
    "    code = _code.copy()\n",
    "    i = 0\n",
    "    while i < len(code):\n",
    "        if code[i] == 99:\n",
    "            return code\n",
    "        elif code[i] == 1:\n",
    "            code[code[i+3]] = code[code[i+1]]+code[code[i+2]]\n",
    "            i +=4\n",
    "        elif code[i] == 2:\n",
    "            code[code[i+3]] = code[code[i+1]]*code[code[i+2]]\n",
    "            i +=4\n",
    "    return code"
   ]
  },
  {
   "cell_type": "code",
   "execution_count": 4,
   "metadata": {},
   "outputs": [
    {
     "data": {
      "text/plain": [
       "True"
      ]
     },
     "execution_count": 4,
     "metadata": {},
     "output_type": "execute_result"
    }
   ],
   "source": [
    "ins = [[1,0,0,0,99],[2,3,0,3,99],[2,4,4,5,99,0],[1,1,1,4,99,5,6,0,99]]\n",
    "outs = [[2,0,0,0,99],[2,3,0,6,99],[2,4,4,5,99,9801],[30,1,1,4,2,5,6,0,99]]\n",
    "tests(opcode,ins,outs)"
   ]
  },
  {
   "cell_type": "code",
   "execution_count": 8,
   "metadata": {},
   "outputs": [
    {
     "name": "stdout",
     "output_type": "stream",
     "text": [
      "All Tests Pass\n"
     ]
    }
   ],
   "source": []
  },
  {
   "cell_type": "code",
   "execution_count": 10,
   "metadata": {},
   "outputs": [],
   "source": [
    "with open(\"2019_12-2_input.txt\") as fileobj:\n",
    "    raw = fileobj.read()\n",
    "inputs = [int(value) for value in raw.split(\",\")]\n",
    "inputs[1] = 12\n",
    "inputs[2] = 2"
   ]
  },
  {
   "cell_type": "code",
   "execution_count": 11,
   "metadata": {},
   "outputs": [
    {
     "data": {
      "text/plain": [
       "3409710"
      ]
     },
     "execution_count": 11,
     "metadata": {},
     "output_type": "execute_result"
    }
   ],
   "source": [
    "opcode(inputs)[0]"
   ]
  },
  {
   "cell_type": "code",
   "execution_count": null,
   "metadata": {},
   "outputs": [],
   "source": []
  }
 ],
 "metadata": {
  "kernelspec": {
   "display_name": "Python [conda env:.conda-simpleenv]",
   "language": "python",
   "name": "conda-env-.conda-simpleenv-py"
  },
  "language_info": {
   "codemirror_mode": {
    "name": "ipython",
    "version": 3
   },
   "file_extension": ".py",
   "mimetype": "text/x-python",
   "name": "python",
   "nbconvert_exporter": "python",
   "pygments_lexer": "ipython3",
   "version": "3.7.5"
  }
 },
 "nbformat": 4,
 "nbformat_minor": 4
}
