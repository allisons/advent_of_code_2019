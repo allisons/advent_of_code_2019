{
 "cells": [
  {
   "cell_type": "code",
   "execution_count": 1,
   "metadata": {},
   "outputs": [],
   "source": [
    "import numpy as np\n",
    "from tests import simple_test as tests\n",
    "\n",
    "def double_digs(string):\n",
    "    double = False\n",
    "    for i in range(len(string)-1):\n",
    "        if string[i]==string[i+1]:\n",
    "            double = True\n",
    "            return double\n",
    "    return double\n",
    "    \n",
    "def monotonic(string):\n",
    "    i = 1\n",
    "    lastv = int(string[0])\n",
    "    while i <len(string):\n",
    "        nextv = int(string[i])\n",
    "        if nextv < lastv:\n",
    "            return False\n",
    "        lastv = nextv\n",
    "        i +=1\n",
    "    return True\n",
    "\n",
    "def qualifies(string):\n",
    "    return len(string)==6 and double_digs(string) and monotonic(string)"
   ]
  },
  {
   "cell_type": "code",
   "execution_count": 3,
   "metadata": {},
   "outputs": [
    {
     "data": {
      "text/plain": [
       "True"
      ]
     },
     "execution_count": 3,
     "metadata": {},
     "output_type": "execute_result"
    }
   ],
   "source": [
    "ins = ['111111','223450','123789']\n",
    "outs = [True,False,False]\n",
    "tests(qualifies,ins,outs)"
   ]
  },
  {
   "cell_type": "code",
   "execution_count": 4,
   "metadata": {},
   "outputs": [
    {
     "data": {
      "text/plain": [
       "1660"
      ]
     },
     "execution_count": 4,
     "metadata": {},
     "output_type": "execute_result"
    }
   ],
   "source": [
    "a = np.arange(172851,675869)\n",
    "nqualifies = 0\n",
    "for pw in a:\n",
    "    if qualifies(str(pw)):\n",
    "        nqualifies +=1\n",
    "nqualifies"
   ]
  },
  {
   "cell_type": "code",
   "execution_count": null,
   "metadata": {},
   "outputs": [],
   "source": []
  }
 ],
 "metadata": {
  "kernelspec": {
   "display_name": "Python [conda env:.conda-simpleenv]",
   "language": "python",
   "name": "conda-env-.conda-simpleenv-py"
  },
  "language_info": {
   "codemirror_mode": {
    "name": "ipython",
    "version": 3
   },
   "file_extension": ".py",
   "mimetype": "text/x-python",
   "name": "python",
   "nbconvert_exporter": "python",
   "pygments_lexer": "ipython3",
   "version": "3.7.5"
  }
 },
 "nbformat": 4,
 "nbformat_minor": 4
}
