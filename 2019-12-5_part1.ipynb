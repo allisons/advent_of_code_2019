{
 "cells": [
  {
   "cell_type": "code",
   "execution_count": 30,
   "metadata": {},
   "outputs": [],
   "source": [
    "import pandas as pd\n",
    "import numpy as np\n",
    "%run tests.py\n",
    "\n",
    "def opcode(op, args):\n",
    "    if op == 1:\n",
    "        return args[0]+args[1]\n",
    "    elif op == 2:\n",
    "        return args[0]*args[1]\n",
    "    else:\n",
    "        return -1\n",
    "\n",
    "def parse(start, _sequence, *arg):\n",
    "    sequence = _sequence.copy()\n",
    "    thiscode = sequence[start]%100\n",
    "    extra = sequence[start]//100\n",
    "    if thiscode < 3:\n",
    "        paramcount = 3\n",
    "    else:\n",
    "        paramcount = 1\n",
    "    params = sequence[start+1:start+1+paramcount].copy()\n",
    "    stash = params.copy()\n",
    "    dest = sequence[start+paramcount]\n",
    "    offset = 0\n",
    "    if thiscode == 3:\n",
    "        sequence[dest] = arg[0]\n",
    "        return sequence, start+paramcount+1\n",
    "    else:\n",
    "        extra = list(str(extra).zfill(paramcount))\n",
    "        p = 0\n",
    "        while len(extra)>0:\n",
    "            m = extra.pop()\n",
    "            if m==\"0\":\n",
    "                params[p]=sequence[params[p]]\n",
    "            p+=1\n",
    "        if thiscode < 3:\n",
    "            newvalue = opcode(thiscode, params)\n",
    "            sequence[dest] = newvalue\n",
    "            return sequence,paramcount+1+start\n",
    "        elif thiscode == 4:\n",
    "            return sequence, start+paramcount+1, params[0]\n",
    "        elif thiscode == 5:\n",
    "            if params[0] != 0:\n",
    "                newvalue = params\n",
    "            return sequence, \n",
    "        else:\n",
    "            return None\n",
    "\n",
    "def run(_sequence,*arg, nulloutput=False, debug=False):\n",
    "    stouts = []\n",
    "    sequence = _sequence.copy()\n",
    "    i = 0\n",
    "    maxp = len(sequence)\n",
    "    history = pd.DataFrame()\n",
    "    col = 0\n",
    "    while (i<maxp):\n",
    "        history[col] = pd.Series(sequence)\n",
    "        col+=1\n",
    "        if sequence[i]==99:\n",
    "            if nulloutput:\n",
    "                return sequence\n",
    "            else:\n",
    "                if debug:\n",
    "                    print (history)\n",
    "                return stouts\n",
    "        outputargs = parse(i,sequence,*arg)\n",
    "        sequence = outputargs[0]\n",
    "        i = outputargs[1]\n",
    "        if len(outputargs)==3:\n",
    "            stouts.append(outputargs[2])\n",
    "        \n",
    "    if nulloutput:\n",
    "        return sequence\n",
    "    else:\n",
    "        if debug:\n",
    "            print (history)\n",
    "        return stouts\n"
   ]
  },
  {
   "cell_type": "code",
   "execution_count": 46,
   "metadata": {},
   "outputs": [
    {
     "data": {
      "text/plain": [
       "True"
      ]
     },
     "execution_count": 46,
     "metadata": {},
     "output_type": "execute_result"
    }
   ],
   "source": [
    "ins = [[1,0,0,0,99],\n",
    "       [2,3,0,3,99],\n",
    "       [2,4,4,5,99,0],\n",
    "       [1,1,1,4,99,5,6,0,99],\n",
    "       [1002,4,3,4,33],\n",
    "       [1101,100,-1,4,0]]\n",
    "outs = [[2,0,0,0,99],\n",
    "        [2,3,0,6,99],\n",
    "        [2,4,4,5,99,9801],\n",
    "        [30,1,1,4,2,5,6,0,99],\n",
    "        [1002,4,3,4,99],\n",
    "        [1101,100,-1,4,99]]\n",
    "expects_no_output(run,ins,outs)"
   ]
  },
  {
   "cell_type": "code",
   "execution_count": 51,
   "metadata": {},
   "outputs": [
    {
     "data": {
      "text/plain": [
       "7259358"
      ]
     },
     "execution_count": 51,
     "metadata": {},
     "output_type": "execute_result"
    }
   ],
   "source": [
    "with open(\"2019_12_5_input.txt\") as fileobj:\n",
    "    raw = fileobj.read()\n",
    "inputs = [int(value) for value in raw.split(\",\")]\n",
    "run(inputs,1)[-1]"
   ]
  },
  {
   "cell_type": "code",
   "execution_count": 246,
   "metadata": {},
   "outputs": [],
   "source": []
  },
  {
   "cell_type": "code",
   "execution_count": 242,
   "metadata": {},
   "outputs": [],
   "source": []
  },
  {
   "cell_type": "code",
   "execution_count": null,
   "metadata": {},
   "outputs": [],
   "source": []
  }
 ],
 "metadata": {
  "kernelspec": {
   "display_name": "Python [conda env:.conda-simpleenv]",
   "language": "python",
   "name": "conda-env-.conda-simpleenv-py"
  },
  "language_info": {
   "codemirror_mode": {
    "name": "ipython",
    "version": 3
   },
   "file_extension": ".py",
   "mimetype": "text/x-python",
   "name": "python",
   "nbconvert_exporter": "python",
   "pygments_lexer": "ipython3",
   "version": "3.7.5"
  }
 },
 "nbformat": 4,
 "nbformat_minor": 4
}
